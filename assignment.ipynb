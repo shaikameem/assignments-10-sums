{
 "cells": [
  {
   "cell_type": "code",
   "execution_count": 26,
   "id": "69cb37a6",
   "metadata": {},
   "outputs": [],
   "source": [
    "## print first 10 natural numbers using while loop"
   ]
  },
  {
   "cell_type": "code",
   "execution_count": 2,
   "id": "d3a18400",
   "metadata": {},
   "outputs": [
    {
     "name": "stdout",
     "output_type": "stream",
     "text": [
      "enter the number:10\n",
      "1\n",
      "2\n",
      "3\n",
      "4\n",
      "5\n",
      "6\n",
      "7\n",
      "8\n",
      "9\n",
      "10\n"
     ]
    }
   ],
   "source": [
    "n=int(input(\"enter the number:\"))\n",
    "i=0\n",
    "while i<n:\n",
    "    i+=1\n",
    "    print(i)"
   ]
  },
  {
   "cell_type": "code",
   "execution_count": 3,
   "id": "d1236385",
   "metadata": {},
   "outputs": [],
   "source": [
    "## calculate the sum of all numbers from 1 to given number"
   ]
  },
  {
   "cell_type": "code",
   "execution_count": 4,
   "id": "9d042332",
   "metadata": {},
   "outputs": [
    {
     "name": "stdout",
     "output_type": "stream",
     "text": [
      "enter the number: 10\n",
      "55\n"
     ]
    }
   ],
   "source": [
    "n=int(input(\"enter the number: \"))\n",
    "sum=0\n",
    "for i in range(1,n+1):\n",
    "    sum+=i\n",
    "print(sum)"
   ]
  },
  {
   "cell_type": "code",
   "execution_count": 27,
   "id": "8082d106",
   "metadata": {},
   "outputs": [],
   "source": [
    "## write a program to print multiplication table of a given number"
   ]
  },
  {
   "cell_type": "code",
   "execution_count": 1,
   "id": "a95eaf72",
   "metadata": {},
   "outputs": [
    {
     "name": "stdout",
     "output_type": "stream",
     "text": [
      "enter the number:4\n",
      "4\n",
      "8\n",
      "12\n",
      "16\n"
     ]
    }
   ],
   "source": [
    "n=int(input(\"enter the number:\" ))\n",
    "for i in range(1,n+1):\n",
    "    print(i*n)"
   ]
  },
  {
   "cell_type": "code",
   "execution_count": 9,
   "id": "b1a4e470",
   "metadata": {},
   "outputs": [],
   "source": [
    "## display numbers from a list using loop"
   ]
  },
  {
   "cell_type": "code",
   "execution_count": 10,
   "id": "4822b2b6",
   "metadata": {},
   "outputs": [
    {
     "name": "stdout",
     "output_type": "stream",
     "text": [
      "enter the list: 2\n",
      "2\n"
     ]
    }
   ],
   "source": [
    "n=(input(\"enter the list: \"))\n",
    "for i in n:\n",
    "    print(i)"
   ]
  },
  {
   "cell_type": "code",
   "execution_count": 11,
   "id": "1df02f66",
   "metadata": {},
   "outputs": [],
   "source": [
    "## count the total number of digits in a number"
   ]
  },
  {
   "cell_type": "code",
   "execution_count": 12,
   "id": "0efaf7d2",
   "metadata": {},
   "outputs": [
    {
     "name": "stdout",
     "output_type": "stream",
     "text": [
      "enter the digit: 5\n",
      "1\n"
     ]
    }
   ],
   "source": [
    "n=(input(\"enter the digit: \"))\n",
    "len_digit=len(n)\n",
    "print(len_digit)"
   ]
  },
  {
   "cell_type": "code",
   "execution_count": 13,
   "id": "8f24c7ce",
   "metadata": {},
   "outputs": [],
   "source": [
    "## print list in reverse order using a loop"
   ]
  },
  {
   "cell_type": "code",
   "execution_count": 14,
   "id": "7344fac9",
   "metadata": {},
   "outputs": [
    {
     "name": "stdout",
     "output_type": "stream",
     "text": [
      "enter the number:5\n",
      "5\n"
     ]
    }
   ],
   "source": [
    "n=(input(\"enter the number:\"))\n",
    "for i in (n[::-1]):\n",
    "    print(i)"
   ]
  },
  {
   "cell_type": "code",
   "execution_count": 15,
   "id": "b8405e37",
   "metadata": {},
   "outputs": [],
   "source": [
    "## display numbers from -10 to -1 using for loop"
   ]
  },
  {
   "cell_type": "code",
   "execution_count": 1,
   "id": "520a955e",
   "metadata": {},
   "outputs": [
    {
     "name": "stdout",
     "output_type": "stream",
     "text": [
      "enter the number:-10\n",
      "-10\n",
      "-9\n",
      "-8\n",
      "-7\n",
      "-6\n",
      "-5\n",
      "-4\n",
      "-3\n",
      "-2\n",
      "-1\n"
     ]
    }
   ],
   "source": [
    "n=(input(\"enter the number:\"))\n",
    "for num in range(-10,0):\n",
    "    print(num)"
   ]
  },
  {
   "cell_type": "code",
   "execution_count": 18,
   "id": "41068491",
   "metadata": {},
   "outputs": [],
   "source": [
    "## use else block to display a message \"done\" after successful execution of for loop"
   ]
  },
  {
   "cell_type": "code",
   "execution_count": 22,
   "id": "d2c04080",
   "metadata": {},
   "outputs": [
    {
     "name": "stdout",
     "output_type": "stream",
     "text": [
      "enter the string:11\n",
      "1\n",
      "2\n",
      "3\n",
      "4\n",
      "5\n",
      "6\n",
      "7\n",
      "8\n",
      "9\n",
      "done\n",
      "done\n"
     ]
    }
   ],
   "source": [
    "n=int(input(\"enter the string:\" ))\n",
    "for i in range(1,n+1):\n",
    "    if i<=9:\n",
    "        print(i)\n",
    "    else:\n",
    "        print(\"done\")"
   ]
  },
  {
   "cell_type": "code",
   "execution_count": 23,
   "id": "059e0762",
   "metadata": {},
   "outputs": [],
   "source": [
    "## write a program to display all prime numbers within a range"
   ]
  },
  {
   "cell_type": "code",
   "execution_count": 24,
   "id": "c3ea8539",
   "metadata": {},
   "outputs": [
    {
     "name": "stdout",
     "output_type": "stream",
     "text": [
      "enter the prime numbers: 5\n",
      "1\n",
      "3\n",
      "5\n"
     ]
    }
   ],
   "source": [
    "n=int(input(\"enter the prime numbers: \"))\n",
    "for i in range(1,n+1):\n",
    "    if i%2!=0:\n",
    "        print(i)"
   ]
  },
  {
   "cell_type": "code",
   "execution_count": 25,
   "id": "c9330e82",
   "metadata": {},
   "outputs": [],
   "source": [
    "## display fibonacci series up to 10 terms"
   ]
  },
  {
   "cell_type": "code",
   "execution_count": 1,
   "id": "b9cf031d",
   "metadata": {},
   "outputs": [
    {
     "name": "stdout",
     "output_type": "stream",
     "text": [
      "0\n",
      "1\n",
      "1\n",
      "2\n",
      "3\n",
      "5\n",
      "8\n",
      "13\n",
      "21\n",
      "34\n"
     ]
    }
   ],
   "source": [
    "n=0\n",
    "n1=1\n",
    "for i in range(10):\n",
    "    print(n)\n",
    "    n,n1=n1,n+n1"
   ]
  },
  {
   "cell_type": "code",
   "execution_count": null,
   "id": "411d61ad",
   "metadata": {},
   "outputs": [],
   "source": []
  }
 ],
 "metadata": {
  "kernelspec": {
   "display_name": "Python 3 (ipykernel)",
   "language": "python",
   "name": "python3"
  },
  "language_info": {
   "codemirror_mode": {
    "name": "ipython",
    "version": 3
   },
   "file_extension": ".py",
   "mimetype": "text/x-python",
   "name": "python",
   "nbconvert_exporter": "python",
   "pygments_lexer": "ipython3",
   "version": "3.10.9"
  }
 },
 "nbformat": 4,
 "nbformat_minor": 5
}
